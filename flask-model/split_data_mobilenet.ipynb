{
 "cells": [
  {
   "cell_type": "code",
   "execution_count": 1,
   "metadata": {
    "id": "4ijNuEws1GRr"
   },
   "outputs": [
    {
     "ename": "ModuleNotFoundError",
     "evalue": "No module named 'config'",
     "output_type": "error",
     "traceback": [
      "\u001b[1;31m---------------------------------------------------------------------------\u001b[0m",
      "\u001b[1;31mModuleNotFoundError\u001b[0m                       Traceback (most recent call last)",
      "Cell \u001b[1;32mIn[1], line 20\u001b[0m\n\u001b[0;32m     18\u001b[0m \u001b[38;5;28;01mfrom\u001b[39;00m \u001b[38;5;21;01mtensorflow\u001b[39;00m\u001b[38;5;21;01m.\u001b[39;00m\u001b[38;5;21;01mkeras\u001b[39;00m\u001b[38;5;21;01m.\u001b[39;00m\u001b[38;5;21;01mapplications\u001b[39;00m\u001b[38;5;21;01m.\u001b[39;00m\u001b[38;5;21;01mvgg19\u001b[39;00m \u001b[38;5;28;01mimport\u001b[39;00m (VGG19, preprocess_input, decode_predictions)\n\u001b[0;32m     19\u001b[0m \u001b[38;5;28;01mfrom\u001b[39;00m \u001b[38;5;21;01mtensorflow\u001b[39;00m\u001b[38;5;21;01m.\u001b[39;00m\u001b[38;5;21;01mkeras\u001b[39;00m\u001b[38;5;21;01m.\u001b[39;00m\u001b[38;5;21;01mapplications\u001b[39;00m \u001b[38;5;28;01mimport\u001b[39;00m MobileNet\n\u001b[1;32m---> 20\u001b[0m \u001b[38;5;28;01mfrom\u001b[39;00m \u001b[38;5;21;01mconfig\u001b[39;00m \u001b[38;5;28;01mimport\u001b[39;00m aws_access_key_id, aws_secret_access_key\n",
      "\u001b[1;31mModuleNotFoundError\u001b[0m: No module named 'config'"
     ]
    }
   ],
   "source": [
    "import os\n",
    "import boto3\n",
    "import numpy as np\n",
    "from tensorflow.keras.preprocessing.image import ImageDataGenerator\n",
    "\n",
    "import matplotlib.pyplot as plt\n",
    "import matplotlib.image as mpimg\n",
    "import random\n",
    "import matplotlib.pyplot as plt\n",
    "import numpy as np\n",
    "import PIL\n",
    "import tensorflow as tf\n",
    "\n",
    "from tensorflow import keras\n",
    "from tensorflow.keras import layers\n",
    "from tensorflow.keras.models import Sequential\n",
    "\n",
    "from tensorflow.keras.applications.vgg19 import (VGG19, preprocess_input, decode_predictions)\n",
    "from tensorflow.keras.applications import MobileNet\n",
    "from config import aws_access_key_id, aws_secret_access_key"
   ]
  },
  {
   "cell_type": "code",
   "execution_count": null,
   "metadata": {
    "id": "6fLPWRS-1Pf2"
   },
   "outputs": [],
   "source": [
    "# Set your AWS credentials and region\n",
    "aws_access_key_id = aws_access_key_id\n",
    "aws_secret_access_key = aws_secret_access_key \n",
    "region_name = \"us-east-2\"\n",
    "bucket_name = \"capstone-pill-images\"\n",
    "# train_prefix = \"dataset/train/\"\n",
    "# validation_prefix = \"dataset/valid/\"\n",
    "data_prefix = \"data/data\"\n",
    "\n",
    "\n",
    "# Create an S3 client\n",
    "s3 = boto3.client(\n",
    "    's3',\n",
    "     aws_access_key_id=aws_access_key_id,\n",
    "     aws_secret_access_key=aws_secret_access_key,\n",
    "     region_name=region_name\n",
    "    )"
   ]
  },
  {
   "cell_type": "code",
   "execution_count": null,
   "metadata": {
    "id": "ZgDjzT4gcYmV"
   },
   "outputs": [],
   "source": [
    "\n",
    "# Function to download images from S3 bucket to a local directory with subdirectories\n",
    "def download_images_from_s3(bucket_name, prefix, local_directory):\n",
    "    response = s3.list_objects_v2(Bucket=bucket_name, Prefix=prefix)\n",
    "    for obj in response.get('Contents', []):\n",
    "        key = obj['Key']\n",
    "\n",
    "        # Extract the drug name from the key\n",
    "        # Split the key at the second \"/\" to get the correct drug name\n",
    "\n",
    "    for obj in response.get('Contents', []):\n",
    "        key = obj['Key']\n",
    "        local_path = os.path.join(local_directory, os.path.relpath(key, prefix))  # Use os.path.relpath to get the relative path\n",
    "        os.makedirs(os.path.dirname(local_path), exist_ok=True)  # Create intermediate directories if they don't exist\n",
    "        s3.download_file(bucket_name, key, local_path)\n",
    "\n",
    "\n",
    "\n"
   ]
  },
  {
   "cell_type": "code",
   "execution_count": null,
   "metadata": {
    "id": "trXxSpse1Qbx"
   },
   "outputs": [],
   "source": [
    "# Download training images\n",
    "local_drug_directory = \"local_drug_directory\"\n",
    "download_images_from_s3(bucket_name, data_prefix, local_drug_directory)\n"
   ]
  },
  {
   "cell_type": "code",
   "execution_count": null,
   "metadata": {
    "id": "wDABLvPL4WGr"
   },
   "outputs": [],
   "source": [
    "# define loading parameters\n",
    "img_height = 224\n",
    "img_width = 224\n",
    "batch_size = 1"
   ]
  },
  {
   "cell_type": "code",
   "execution_count": null,
   "metadata": {},
   "outputs": [],
   "source": [
    "import splitfolders\n",
    "splitfolders.ratio('local_drug_directory', output=\"output\", seed=1337, ratio=(.8, 0.1,0.1)) "
   ]
  },
  {
   "cell_type": "code",
   "execution_count": null,
   "metadata": {
    "id": "nk7xejq0FybN"
   },
   "outputs": [],
   "source": [
    "train_datagen = ImageDataGenerator(rescale=1./255)\n",
    "valid_datagen = ImageDataGenerator(rescale=1./255)"
   ]
  },
  {
   "cell_type": "code",
   "execution_count": null,
   "metadata": {},
   "outputs": [],
   "source": [
    "train_dir = \"output/train/\"\n",
    "valid_dir = \"output/val/\""
   ]
  },
  {
   "cell_type": "code",
   "execution_count": null,
   "metadata": {
    "id": "92tfb3xTUvXB"
   },
   "outputs": [],
   "source": [
    "train_generator = train_datagen.flow_from_directory(train_dir,\n",
    "                                                    target_size=(img_width,img_height),\n",
    "                                                    batch_size=batch_size,\n",
    "                                                    shuffle=True,\n",
    "                                                    class_mode=\"categorical\"\n",
    "                                                   )"
   ]
  },
  {
   "cell_type": "code",
   "execution_count": null,
   "metadata": {},
   "outputs": [],
   "source": [
    "validation_generator = valid_datagen.flow_from_directory(valid_dir,\n",
    "                                                    target_size=(img_width,img_height),\n",
    "                                                    batch_size=batch_size,\n",
    "                                                    shuffle=True,\n",
    "                                                    class_mode=\"categorical\"\n",
    "                                                   )"
   ]
  },
  {
   "cell_type": "code",
   "execution_count": null,
   "metadata": {},
   "outputs": [],
   "source": [
    "class_names = train_generator.class_indices.keys()\n",
    "class_names"
   ]
  },
  {
   "cell_type": "code",
   "execution_count": null,
   "metadata": {},
   "outputs": [],
   "source": [
    "from keras.layers import Conv2D, MaxPooling2D\n",
    "from keras.layers import Activation, Dropout, Flatten, Dense\n",
    "from tensorflow.keras.layers import Dense, Conv2D, MaxPooling2D, GlobalAveragePooling2D"
   ]
  },
  {
   "cell_type": "code",
   "execution_count": null,
   "metadata": {},
   "outputs": [],
   "source": [
    "base_model = MobileNet(weights = 'imagenet', include_top=False, input_shape=(224, 224, 3))\n",
    "base_model.trainable = False\n",
    "base_model.summary()"
   ]
  },
  {
   "cell_type": "code",
   "execution_count": null,
   "metadata": {},
   "outputs": [],
   "source": [
    "model = Sequential()\n",
    "\n",
    "model.add(base_model)\n",
    "model.add(GlobalAveragePooling2D())\n",
    "model.add(Dense(23, activation=\"softmax\"))\n",
    "model.summary()"
   ]
  },
  {
   "cell_type": "code",
   "execution_count": null,
   "metadata": {},
   "outputs": [],
   "source": [
    "model.compile(optimizer='adam',\n",
    "              loss=\"categorical_crossentropy\",\n",
    "              metrics=['accuracy'])"
   ]
  },
  {
   "cell_type": "code",
   "execution_count": null,
   "metadata": {},
   "outputs": [],
   "source": [
    "model.fit(train_generator, epochs=2)"
   ]
  },
  {
   "cell_type": "code",
   "execution_count": null,
   "metadata": {},
   "outputs": [],
   "source": [
    "model_loss, model_accuracy = model.evaluate(validation_generator, verbose=2)\n",
    "print(f\" loss : {round(model_loss)*100}%, accuray : {round(model_accuracy,2)*100}%\")"
   ]
  },
  {
   "cell_type": "code",
   "execution_count": null,
   "metadata": {},
   "outputs": [],
   "source": [
    "# model.save('MobileNet_02.keras')"
   ]
  },
  {
   "cell_type": "code",
   "execution_count": null,
   "metadata": {},
   "outputs": [],
   "source": [
    "\n",
    "def show_sample_images(local_directory):\n",
    "    # Go into the local directory and put all subdirectories in a List\n",
    "    subdirectories = [d for d in os.listdir(local_directory) if os.path.isdir(os.path.join(local_directory, d))]\n",
    "\n",
    "    # Check if there are any subdirectories\n",
    "    if not subdirectories:\n",
    "        print(\"No subdirectories found in the directory.\")\n",
    "        return\n",
    "\n",
    "    # Collect all image files from all subdirectories\n",
    "    all_image_files = []\n",
    "    for subdirectory in subdirectories:\n",
    "        subdirectory_path = os.path.join(local_directory, subdirectory)\n",
    "\n",
    "        # List all image files in the subdirectory\n",
    "        image_files = [f for f in os.listdir(subdirectory_path) if f.lower().endswith(('.jpg', '.jpeg'))]\n",
    "\n",
    "        # Add the image files to the combined list\n",
    "        all_image_files.extend(os.path.join(subdirectory_path, f) for f in image_files)\n",
    "\n",
    "    # Shuffle the combined list of image files\n",
    "    random.shuffle(all_image_files)\n",
    "\n",
    "    # Set the number of random images to display\n",
    "    num_images_to_display = 5\n",
    "\n",
    "    # Create subplots to display images side by side\n",
    "    fig, axes = plt.subplots(1, num_images_to_display, figsize=(15, 3))  # Adjust figsize as needed\n",
    "\n",
    "    # Loop to select and display 5 random images\n",
    "    for i in range(num_images_to_display):\n",
    "        # Check if there are still image files available\n",
    "        if not all_image_files:\n",
    "            break\n",
    "\n",
    "        # Pop a random image from the combined list\n",
    "        random_image_file = all_image_files.pop()\n",
    "\n",
    "        # Load and display the randomly selected image\n",
    "        img = mpimg.imread(random_image_file)\n",
    "\n",
    "        # Display the image in the subplot\n",
    "        axes[i].imshow(img)\n",
    "        axes[i].axis('off')  # Turn off axis labels\n",
    "\n",
    "    # Show the subplots\n",
    "    plt.show()\n",
    "\n",
    "# Example usage\n",
    "show_sample_images(local_drug_directory)"
   ]
  },
  {
   "cell_type": "code",
   "execution_count": null,
   "metadata": {},
   "outputs": [],
   "source": []
  }
 ],
 "metadata": {
  "colab": {
   "provenance": []
  },
  "kernelspec": {
   "display_name": "Python 3 (ipykernel)",
   "language": "python",
   "name": "python3"
  },
  "language_info": {
   "codemirror_mode": {
    "name": "ipython",
    "version": 3
   },
   "file_extension": ".py",
   "mimetype": "text/x-python",
   "name": "python",
   "nbconvert_exporter": "python",
   "pygments_lexer": "ipython3",
   "version": "3.11.5"
  }
 },
 "nbformat": 4,
 "nbformat_minor": 1
}
